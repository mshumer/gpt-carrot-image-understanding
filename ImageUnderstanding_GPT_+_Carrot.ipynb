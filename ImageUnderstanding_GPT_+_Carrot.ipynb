{
  "nbformat": 4,
  "nbformat_minor": 0,
  "metadata": {
    "colab": {
      "name": "SHARED -- ImageUnderstanding / GPT + Carrot",
      "provenance": []
    },
    "kernelspec": {
      "name": "python3",
      "display_name": "Python 3"
    },
    "language_info": {
      "name": "python"
    }
  },
  "cells": [
    {
      "cell_type": "code",
      "source": [
        "!pip install banana_dev\n",
        "!pip install openai\n",
        "\n",
        "import banana_dev as banana\n",
        "import openai\n",
        "\n",
        "openai.api_key = \"YOUR_API_KEY_HERE\" # get this from OpenAI\n",
        "carrot_api_key = \"YOUR_API_KEY_HERE\" # get this from banana.dev"
      ],
      "metadata": {
        "id": "3GOKA8jYe0Sv"
      },
      "execution_count": null,
      "outputs": []
    },
    {
      "cell_type": "code",
      "source": [
        "def ask_next_question(conversation_history):\n",
        "  \"\"\"\n",
        "  enter the existing conversation, ending with Beth's response + 'Albert:'\n",
        "  returns the next question Albert asks\n",
        "  \"\"\"\n",
        "  response = openai.Completion.create(\n",
        "    engine=\"text-davinci-001\",\n",
        "    prompt=\"Two friends are playing a game. Albert is trying to deeply understand the image Beth is looking at, without seeing the image. Albert can ask Beth any questions he wants, but he can't see the image.\\n\\nPicture #1\\n\\nAlbert: What is this?\\nBeth: This is a baseball game.\\nAlbert: How many people are on the field?\\nBeth: There are two people on the field.\\nAlbert: What are the two people on the field doing?\\nBeth: One person an umpire and the other is pitching.\\nAlbert: Is the pitcher in the middle of throwing a ball?\\nBeth: The pitcher is in the middle of throwing a ball.\\nAlbert: What color uniform is the pitcher wearing?\\nBeth: The pitcher is wearing a white uniform.\\nAlbert: Are there a lot of people in the stands?\\nBeth: There are many people in the stands.\\nAlbert: Is the pitcher right-handed or left-handed?\\nBeth: The pitcher is right-handed.\\nAlbert: Where is the umpire in relation to the pitcher?\\nBeth: The umpire is behind the pitcher.\\n\\n###\\n\\nPicture #2\\n\\n{}\\nAlbert:\".format(conversation_history),\n",
        "    temperature=0.5,\n",
        "    max_tokens=64,\n",
        "    top_p=1,\n",
        "    frequency_penalty=0,\n",
        "    presence_penalty=0,\n",
        "    stop=[\"Albert\", \"Beth\", \"###\", \"Picture #3\"]\n",
        "  )\n",
        "\n",
        "  return response['choices'][0]['text'].strip()"
      ],
      "metadata": {
        "id": "QTzPYH5mncf_"
      },
      "execution_count": null,
      "outputs": []
    },
    {
      "cell_type": "code",
      "source": [
        "def remove_mention_of_image_from_question(question):\n",
        "  \"\"\"\n",
        "  Converts the question to remove any mention of it being a picture, so as to not confuse carrot\n",
        "  takes in a question\n",
        "  returns a cleaned question\n",
        "  \"\"\"\n",
        "  response = openai.Completion.create(\n",
        "  engine=\"text-davinci-001\",\n",
        "  prompt=\"Convert the statement to remove any mention of it being a picture:\\n\\nBefore: How many people are on the field in the picture?\\nAfter: How many people are on the field?\\n\\n###\\n\\nBefore: How many dancers are in the image?\\nAfter: How many dancers are there?\\n\\n###\\n\\nBefore: {}\\nAfter:\".format(question.strip()),\n",
        "  temperature=0.2,\n",
        "  max_tokens=64,\n",
        "  top_p=1,\n",
        "  frequency_penalty=0,\n",
        "  presence_penalty=0,\n",
        "  stop=[\"###\", \"Before\", \"After\"]\n",
        "  )\n",
        "\n",
        "  return response['choices'][0]['text'].strip()"
      ],
      "metadata": {
        "id": "NrMIOdYaqCnr"
      },
      "execution_count": null,
      "outputs": []
    },
    {
      "cell_type": "code",
      "execution_count": null,
      "metadata": {
        "id": "mTgTbTjieyZg"
      },
      "outputs": [],
      "source": [
        "def call_carrot(text, imageURL):\n",
        "  api_key = carrot_api_key\n",
        "  model_key = \"carrot\"\n",
        "\n",
        "  model_parameters = {\n",
        "  \"text\": text,\n",
        "  \"imageURL\": imageURL\n",
        "  }\n",
        "\n",
        "  out = banana.run(api_key, model_key, model_parameters)\n",
        "  return out[\"modelOutputs\"][0][\"answer\"]"
      ]
    },
    {
      "cell_type": "code",
      "source": [
        "def carrot_answer_to_response(question, answer):\n",
        "  \"\"\"\n",
        "  given a question and it's carrot-generated short answer, generate a sentence to respond to the question\n",
        "  returns a sentence\n",
        "  \"\"\"\n",
        "  response = openai.Completion.create(\n",
        "  engine=\"text-davinci-001\",\n",
        "  prompt=\"Given a question and a correct answer, write a well-formed response to the question:\\n\\nQuestion: What is this image?\\nCorrect Answer: baseball game\\n\\nWell-formed Response: This is a baseball game.\\n\\n###\\n\\nQuestion: How many players are in the image?\\nCorrect Answer: 2\\n\\nWell-formed Response: There are two players in this image.\\n\\n###\\n\\nQuestion: {}\\nCorrect Answer: {}\\n\\nWell-formed Response:\".format(question.strip(), answer.strip()),\n",
        "  temperature=0.7,\n",
        "  max_tokens=64,\n",
        "  top_p=1,\n",
        "  frequency_penalty=0,\n",
        "  presence_penalty=0,\n",
        "  stop=[\"###\", \"Question\", \"Correct\", \"Well-formed\"]\n",
        "  )\n",
        "\n",
        "  return response['choices'][0]['text'].strip()"
      ],
      "metadata": {
        "id": "Shz_DyH0oM1M"
      },
      "execution_count": null,
      "outputs": []
    },
    {
      "cell_type": "code",
      "source": [
        "def analyze_image(url):\n",
        "  # first question to seed the process\n",
        "  initial_question = \"What is this?\"\n",
        "  initial_carrot_answer = call_carrot(initial_question, url)\n",
        "  initial_response = carrot_answer_to_response(initial_question, initial_carrot_answer)\n",
        "  conversation_history = \"Albert: {}\\nBeth: {}\".format(initial_question, initial_response)\n",
        "  \n",
        "  # continue asking 8 more questions and getting answers\n",
        "  for i in range(8):\n",
        "    next_question = ask_next_question(conversation_history)\n",
        "    next_question = remove_mention_of_image_from_question(next_question)\n",
        "    next_carrot_answer = call_carrot(next_question, url)\n",
        "    next_response = carrot_answer_to_response(next_question, next_carrot_answer)\n",
        "    conversation_history = \"{}\\nAlbert: {}\\nBeth: {}\".format(conversation_history, next_question, next_response)\n",
        "  \n",
        "  # extract all of Beth's answers and save them in a list\n",
        "  answers = []\n",
        "  for line in conversation_history.split(\"\\n\"):\n",
        "    if \"Beth\" in line:\n",
        "      answers.append(line.split(\":\")[1].strip())\n",
        "  \n",
        "  return answers, conversation_history"
      ],
      "metadata": {
        "id": "CH6zfihnq4qo"
      },
      "execution_count": null,
      "outputs": []
    },
    {
      "cell_type": "code",
      "source": [
        "# do this a few times and check the avg to improve accuracy?\n",
        "def fact_check(answers, imageURL):\n",
        "  final_statements = []\n",
        "  for answer in answers:\n",
        "    response = openai.Completion.create(\n",
        "    engine=\"text-davinci-001\",\n",
        "    prompt=\"For each statement, turn it around into a question:\\n\\nStatement: The game is being played in the afternoon.\\nQuestion: Is it the afternoon?\\n\\n###\\n\\nStatement: The players are on a baseball field.\\nQuestion: Are the players on a baseball field?\\n\\n###\\n\\nStatement: {}\\nQuestion:\".format(answer),\n",
        "    temperature=0.26,\n",
        "    max_tokens=64,\n",
        "    top_p=1,\n",
        "    frequency_penalty=0,\n",
        "    presence_penalty=0,\n",
        "    stop=[\"###\", \"Statement\", \"Question\"]\n",
        "    )\n",
        "\n",
        "    question = response['choices'][0]['text'].strip()\n",
        "    \n",
        "    carrot_answer = call_carrot(question, imageURL)\n",
        "  \n",
        "\n",
        "  \n",
        "    if 'y' in carrot_answer:\n",
        "      final_statements.append(answer)\n",
        "\n",
        "  return final_statements\n"
      ],
      "metadata": {
        "id": "yVAqzGdZ1AeK"
      },
      "execution_count": null,
      "outputs": []
    },
    {
      "cell_type": "code",
      "source": [
        "def meta_analyze_image(url):\n",
        "  all_answers = []\n",
        "  for i in range(5):\n",
        "    answers, conversation_history = analyze_image(url)\n",
        "    all_answers = all_answers + answers\n",
        "  \n",
        "  all_answers = list(set(all_answers))\n",
        "\n",
        "  checked_answers = fact_check(all_answers, url)\n",
        "\n",
        "  checked_answers = \"\\n\".join(checked_answers)\n",
        "\n",
        "  response = openai.Completion.create(\n",
        "  engine=\"text-davinci-001\",\n",
        "  prompt=\"Given a set of statements about an image, describe the image:\\n\\nStatements:\\nThe game is being played in the afternoon.\\nThe people in this image are playing baseball.\\nThe pitcher throws with their right hand.\\nThe players are on a baseball field.\\nThe score is 0-0.\\nYes, the game is being played.\\nThis is a baseball game.\\nThis is a pitcher.\\nThe pitcher's arm is throwing the ball.\\nThe pitcher is facing the catcher in this image.\\nThe pitcher's hat is black.\\nThe uniforms are white.\\nThe people in the front row are standing.\\nThe ball is in the hand.\\nThe pitcher is throwing the ball.\\nThe people in the back row stand.\\nThe pitcher's uniform is white.\\nThe pitcher is on the pitcher's mound.\\nThe background is the bleachers.\\n\\nDescribe the image:\\nThis image is a photograph of a baseball game, in the afternoon. In the background, there are bleachers, and in the back and front rows, people are standing. The pitcher, who is wearing a white uniform and has a black hat, is on the pitcher's mound and is throwing the ball to the catcher with their right hand. The catcher is also in white, and is in front of the pitcher. The score of the game is 0-0.\\n\\n###\\n\\nStatements:\\n{}\\n\\nDescribe the image:\".format(checked_answers),\n",
        "  temperature=0.7,\n",
        "  max_tokens=200,\n",
        "  top_p=1,\n",
        "  frequency_penalty=0,\n",
        "  presence_penalty=0\n",
        "  )\n",
        "  \n",
        "  return response['choices'][0]['text'].strip()"
      ],
      "metadata": {
        "id": "i7pMNFLjsg_l"
      },
      "execution_count": null,
      "outputs": []
    },
    {
      "cell_type": "code",
      "source": [
        "meta_analyze_image(\"https://www.si.com/.image/t_share/MTY4MTk3MTQ1NjcyMzYxODU3/tennis-inlinejpg.jpg\")"
      ],
      "metadata": {
        "id": "lneUWwB-uiHf"
      },
      "execution_count": null,
      "outputs": []
    }
  ]
}